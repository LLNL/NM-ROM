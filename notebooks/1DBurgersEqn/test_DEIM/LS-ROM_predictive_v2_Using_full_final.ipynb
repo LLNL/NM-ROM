{
 "cells": [
  {
   "cell_type": "markdown",
   "metadata": {},
   "source": [
    "#  FOM ~ $O(m)$"
   ]
  },
  {
   "cell_type": "code",
   "execution_count": 1,
   "metadata": {
    "ExecuteTime": {
     "end_time": "2020-03-16T16:03:55.800015Z",
     "start_time": "2020-03-16T16:03:54.979497Z"
    }
   },
   "outputs": [],
   "source": [
    "import numpy as np\n",
    "from matplotlib import pyplot as plt\n",
    "import matplotlib.animation as animation \n",
    "%matplotlib inline\n",
    "import time, sys\n",
    "from scipy.sparse import spdiags\n",
    "from scipy import sparse\n",
    "from scipy.sparse.linalg import spsolve\n",
    "import pickle"
   ]
  },
  {
   "cell_type": "code",
   "execution_count": 2,
   "metadata": {
    "ExecuteTime": {
     "end_time": "2020-03-16T16:03:55.807819Z",
     "start_time": "2020-03-16T16:03:55.802610Z"
    }
   },
   "outputs": [],
   "source": [
    "def kth_diag_indices(a, k):\n",
    "    rows, cols = np.diag_indices_from(a)\n",
    "    if k < 0:\n",
    "        return rows[-k:], cols[:k]\n",
    "    elif k > 0:\n",
    "        return rows[:-k], cols[k:]\n",
    "    else:\n",
    "        return rows, cols"
   ]
  },
  {
   "cell_type": "code",
   "execution_count": 3,
   "metadata": {
    "ExecuteTime": {
     "end_time": "2020-03-16T16:03:56.244058Z",
     "start_time": "2020-03-16T16:03:56.240176Z"
    }
   },
   "outputs": [],
   "source": [
    "def sine_wave(amp,width,nx,dx,x):\n",
    "    \n",
    "    u0 = np.zeros(nx) + 1.0\n",
    "    u0[1:int(width/dx+1)] = 1.0 + amp/2*(np.sin(2*np.pi/(x[int(width/dx+1)]-x[1])*x[1:int(width/dx+1)]-np.pi/2)+1)\n",
    "    u0[-1] = u0[0]\n",
    "    \n",
    "    return u0"
   ]
  },
  {
   "cell_type": "code",
   "execution_count": 4,
   "metadata": {
    "ExecuteTime": {
     "end_time": "2020-03-16T16:03:59.509772Z",
     "start_time": "2020-03-16T16:03:59.506753Z"
    }
   },
   "outputs": [],
   "source": [
    "def residual(un,uw,c,idxn1):\n",
    "    \n",
    "    # r = -u^{n} + u^{n+1} -dt*f(u^{n+1})\n",
    "    \n",
    "    f = c*(uw**2 - uw*uw[idxn1]) \n",
    "    \n",
    "    r = -un + uw + f\n",
    "    \n",
    "    return r"
   ]
  },
  {
   "cell_type": "code",
   "execution_count": 5,
   "metadata": {
    "ExecuteTime": {
     "end_time": "2020-03-16T16:04:05.365211Z",
     "start_time": "2020-03-16T16:04:05.360594Z"
    }
   },
   "outputs": [],
   "source": [
    "def jacobian(u,c,idxn1):\n",
    "\n",
    "    # J = I - dt*dfdu\n",
    "    \n",
    "    diag_comp = 1.0 + c*(2*u - u[idxn1])\n",
    "    subdiag_comp = np.ones(nx-1)\n",
    "    subdiag_comp[:-1] = -c*u[1:]\n",
    "        \n",
    "    data = np.array([diag_comp, subdiag_comp])\n",
    "    J = spdiags(data,[0,-1],nx-1,nx-1,format='csr')\n",
    "    J[0,-1] = -c*u[0]\n",
    "    \n",
    "    return J\n",
    "\n",
    "#     diag_comp = 1.0 + c*(2*u - u[idxn1])\n",
    "#     subdiag_comp = -c*u\n",
    "    \n",
    "#     J = np.diag(diag_comp,0)\n",
    "#     J[dn1] = subdiag_comp[1:]\n",
    "#     J[0,-1] = -c*u[0]\n",
    "    \n",
    "#     return J"
   ]
  },
  {
   "cell_type": "code",
   "execution_count": 6,
   "metadata": {
    "ExecuteTime": {
     "end_time": "2020-03-16T16:04:12.494730Z",
     "start_time": "2020-03-16T16:04:12.486713Z"
    }
   },
   "outputs": [],
   "source": [
    "# predictive case\n",
    "amp = 1.0\n",
    "width = 1.0\n",
    "\n",
    "convergence_threshold = 1.0e-8\n",
    "maxk = 10\n",
    "\n",
    "nx = 1001\n",
    "dx = 2.0 / (nx - 1)\n",
    "nt = 501  \n",
    "dt = 0.5 / (nt - 1)  \n",
    "\n",
    "c = dt/dx\n",
    "\n",
    "x = np.linspace(0, 2, nx)\n",
    "\n",
    "u0 = sine_wave(amp,width,nx,dx,x)\n",
    "\n",
    "dn1=kth_diag_indices(np.eye(nx-1),-1)\n",
    "idxn1=np.zeros(nx-1,dtype='int')\n",
    "idxn1[1:]=np.arange(nx-2)\n",
    "idxn1[0]=nx-2"
   ]
  },
  {
   "cell_type": "code",
   "execution_count": 7,
   "metadata": {
    "ExecuteTime": {
     "end_time": "2020-03-16T16:04:20.365210Z",
     "start_time": "2020-03-16T16:04:15.792297Z"
    }
   },
   "outputs": [
    {
     "name": "stderr",
     "output_type": "stream",
     "text": [
      "/home/kim101/anaconda3/lib/python3.8/site-packages/scipy/sparse/_index.py:82: SparseEfficiencyWarning: Changing the sparsity structure of a csr_matrix is expensive. lil_matrix is more efficient.\n",
      "  self._set_intXint(row, col, x.flat[0])\n"
     ]
    },
    {
     "name": "stdout",
     "output_type": "stream",
     "text": [
      "\n",
      "Time elapsed: 1.0757813453674316 sec\n"
     ]
    }
   ],
   "source": [
    "t_total_start = time.time()\n",
    "\n",
    "u = np.zeros((nt,nx))\n",
    "u[0] = u0\n",
    "I = sparse.eye(nx,format='csr')\n",
    "for n in range(nt-1): \n",
    "#     print(\"\")\n",
    "#     print(n,\"th time step:\")\n",
    "    \n",
    "    uw = u[n,:-1].copy()\n",
    "    \n",
    "    r = residual(u[n,:-1],uw,c,idxn1)\n",
    "    \n",
    "    for k in range(maxk):\n",
    "        J = jacobian(uw,c,idxn1)\n",
    "        \n",
    "        duw = spsolve(J, -r)\n",
    "#         duw = np.linalg.solve(J,-r)\n",
    "        \n",
    "        uw = uw + duw\n",
    "        \n",
    "        r = residual(u[n,:-1],uw,c,idxn1)\n",
    "    \n",
    "        R = np.linalg.norm(r)\n",
    "#         print(k,\"th Newton iteration\", \"R:\", R)\n",
    "\n",
    "        if R < convergence_threshold:\n",
    "            u[n+1,:-1] = uw.copy()\n",
    "            u[n+1,-1] = u[n+1,0]\n",
    "            break\n",
    "            \n",
    "    if R >= convergence_threshold:\n",
    "        print(\"\\n non converged after {}th iteration\".format(maxk))\n",
    "        break\n",
    "    \n",
    "#     u[n+1,:-1] = uw.copy()\n",
    "#     u[n+1,-1] = u[n+1,0]\n",
    "      \n",
    "t_total = time.time()-t_total_start\n",
    "print()\n",
    "print(\"Time elapsed: {} sec\".format(t_total))"
   ]
  },
  {
   "cell_type": "code",
   "execution_count": 8,
   "metadata": {
    "ExecuteTime": {
     "end_time": "2020-03-16T16:04:26.689284Z",
     "start_time": "2020-03-16T16:04:26.545491Z"
    }
   },
   "outputs": [
    {
     "data": {
      "image/png": "[encoded data removed]",
      "text/plain": [
       "<Figure size 432x288 with 1 Axes>"
      ]
     },
     "metadata": {
      "needs_background": "light"
     },
     "output_type": "display_data"
    },
    {
     "data": {
      "image/png": "[encoded data removed]",
      "text/plain": [
       "<Figure size 432x288 with 1 Axes>"
      ]
     },
     "metadata": {
      "needs_background": "light"
     },
     "output_type": "display_data"
    }
   ],
   "source": [
    "plt.figure()\n",
    "plt.plot(x,u[0])\n",
    "plt.xlabel('x')\n",
    "plt.ylabel('u')\n",
    "plt.title('t={}'.format(0))\n",
    "plt.show()\n",
    "\n",
    "plt.figure()\n",
    "plt.plot(x,u[-1])\n",
    "plt.xlabel('x')\n",
    "plt.ylabel('u')\n",
    "plt.title('t={}'.format(0.5))\n",
    "plt.show()"
   ]
  },
  {
   "cell_type": "markdown",
   "metadata": {},
   "source": [
    "# LS-ROM (g) ~ $O(f^2m)$, where $f$ is a latent dimension"
   ]
  },
  {
   "cell_type": "code",
   "execution_count": 9,
   "metadata": {},
   "outputs": [],
   "source": [
    "# load POD basis\n",
    "file_name_POD=\"./model/POD_v2.p\"\n",
    "\n",
    "POD = pickle.load(open(file_name_POD,'rb'))\n",
    "\n",
    "phi=np.copy(POD)\n",
    "phiT=phi.T\n",
    "\n",
    "POD_basis =phi.shape[1]"
   ]
  },
  {
   "cell_type": "code",
   "execution_count": 10,
   "metadata": {
    "ExecuteTime": {
     "end_time": "2020-03-16T16:05:30.002806Z",
     "start_time": "2020-03-16T16:05:29.998519Z"
    }
   },
   "outputs": [],
   "source": [
    "def sine_wave(amp,width,nx,dx,x):\n",
    "    \n",
    "    u0 = np.zeros(nx) + 1.0\n",
    "    u0[1:int(width/dx+1)] = 1.0 + amp/2*(np.sin(2*np.pi/(x[int(width/dx+1)]-x[1])*x[1:int(width/dx+1)]-np.pi/2)+1)\n",
    "    u0[-1] = u0[0]\n",
    "    \n",
    "    return u0"
   ]
  },
  {
   "cell_type": "code",
   "execution_count": 11,
   "metadata": {
    "ExecuteTime": {
     "end_time": "2020-03-16T16:05:30.417042Z",
     "start_time": "2020-03-16T16:05:30.413158Z"
    }
   },
   "outputs": [],
   "source": [
    "def residual_hat(u_hatn,u_hatw,uw,c,phiT,idxn1):\n",
    "    \n",
    "    # \\hat r = -\\hat u^n + \\hat u^{n+1} - dt*\\phi^T f(\\phi \\hat u^{n+1})   \n",
    "    \n",
    "    f = c*(uw**2 - uw*uw[idxn1]) \n",
    "    \n",
    "    r_hat = -u_hatn + u_hatw + phiT.dot(f)\n",
    "    \n",
    "    return r_hat"
   ]
  },
  {
   "cell_type": "code",
   "execution_count": 12,
   "metadata": {
    "ExecuteTime": {
     "end_time": "2020-03-16T16:05:30.834341Z",
     "start_time": "2020-03-16T16:05:30.829273Z"
    }
   },
   "outputs": [],
   "source": [
    "def jacobian_hat(u,c,phiT,phi,idxn1,I_hat):\n",
    "    \n",
    "    # \\hat J = \\hat I - dt \\phi^T Jf \\phi\n",
    "    \n",
    "    diag_comp = c*(2*u - u[idxn1])\n",
    "    diag_out = diag_comp*phiT\n",
    "    \n",
    "    subdiag_comp = -c*u[1:]\n",
    "    subdiag_out = subdiag_comp*phiT[:,1:]\n",
    "    \n",
    "    last_col = -c*u[0]*phiT[:,0]\n",
    "    \n",
    "    phiTJf = diag_out\n",
    "    phiTJf[:,:-1] += subdiag_out\n",
    "    phiTJf[:,-1] += last_col\n",
    "\n",
    "    J_hat = I_hat + phiTJf.dot(phi)\n",
    "    \n",
    "    return J_hat"
   ]
  },
  {
   "cell_type": "code",
   "execution_count": 13,
   "metadata": {
    "ExecuteTime": {
     "end_time": "2020-03-16T16:07:33.604077Z",
     "start_time": "2020-03-16T16:07:33.593845Z"
    }
   },
   "outputs": [],
   "source": [
    "amp = 1.0\n",
    "width = 1.0\n",
    "\n",
    "convergence_threshold = 1.0e-8\n",
    "maxk = 4\n",
    "\n",
    "nx = 1001\n",
    "dx = 2.0 / (nx - 1)\n",
    "nt = 501  \n",
    "dt = 0.5 / (nt - 1)   \n",
    "\n",
    "c = dt/dx\n",
    "\n",
    "x = np.linspace(0, 2, nx)\n",
    "\n",
    "idxn1 = np.zeros(nx-1,dtype='int')\n",
    "idxn1[1:] = np.arange(nx-2)\n",
    "idxn1[0] = nx-2\n",
    "\n",
    "u0 = sine_wave(amp,width,nx,dx,x)\n",
    "u_hat0 = np.zeros(POD_basis)"
   ]
  },
  {
   "cell_type": "code",
   "execution_count": 22,
   "metadata": {
    "ExecuteTime": {
     "end_time": "2020-03-16T16:07:53.435299Z",
     "start_time": "2020-03-16T16:07:34.297802Z"
    },
    "scrolled": true
   },
   "outputs": [
    {
     "name": "stdout",
     "output_type": "stream",
     "text": [
      "\n",
      "Time elapsed: 0.182844877243042 sec\n"
     ]
    }
   ],
   "source": [
    "t_total_rom_g_start=time.time()\n",
    "\n",
    "u_rom_g = np.zeros((nt,nx))\n",
    "u_rom_g[0] = u0\n",
    "u_hat = np.zeros((nt,POD_basis))\n",
    "u_hat[0] = u_hat0\n",
    "I_hat = np.eye(POD_basis)\n",
    "\n",
    "for n in range(nt-1): \n",
    "#     print(\"\")\n",
    "#     print(n,\"th time step:\")\n",
    "    \n",
    "    u_hatw = u_hat[n].copy()\n",
    "  \n",
    "    uw = u0[:-1] + phi.dot(u_hatw)\n",
    "\n",
    "    r_hat = residual_hat(u_hat[n],u_hatw,uw,c,phiT,idxn1)\n",
    "    \n",
    "    for k in range(maxk):   \n",
    "        J_hat = jacobian_hat(uw,c,phiT,phi,idxn1,I_hat)\n",
    "        \n",
    "        du_hatw = np.linalg.solve(J_hat,-r_hat) \n",
    "        \n",
    "        u_hatw = u_hatw + du_hatw\n",
    "        \n",
    "        uw = u0[:-1] + phi.dot(u_hatw)\n",
    "\n",
    "        r_hat = residual_hat(u_hat[n],u_hatw,uw,c,phiT,idxn1)\n",
    "        \n",
    "        res = np.linalg.norm(r_hat)      \n",
    "#         print(k,\"th Newton iteration\", \"res:\", \"{:.8e}\".format(res))        \n",
    "        \n",
    "        if res < convergence_threshold:\n",
    "            u_hat[n+1] = u_hatw.copy()\n",
    "            u_rom_g[n+1,:-1] = uw.copy()\n",
    "            u_rom_g[n+1,-1] = u_rom_g[n+1,0]    \n",
    "            break\n",
    "            \n",
    "    if res >= convergence_threshold:\n",
    "        print(\"\\n non converged after {}th iteration\".format(maxk))\n",
    "        break\n",
    "\n",
    "#     u_hat[n+1] = u_hatw.copy()\n",
    "#     u_rom_g[n+1,:-1] = uw.copy()\n",
    "#     u_rom_g[n+1,-1] = u_rom_g[n+1,0]\n",
    "\n",
    "t_total_rom_g=time.time()-t_total_rom_g_start\n",
    "print()\n",
    "print(\"Time elapsed: {} sec\".format(t_total_rom_g))"
   ]
  },
  {
   "cell_type": "code",
   "execution_count": 27,
   "metadata": {},
   "outputs": [
    {
     "data": {
      "image/png": "[encoded data removed]",
      "text/plain": [
       "<Figure size 432x288 with 1 Axes>"
      ]
     },
     "metadata": {
      "needs_background": "light"
     },
     "output_type": "display_data"
    }
   ],
   "source": [
    "# plot\n",
    "ts=-1\n",
    "\n",
    "plt.figure()\n",
    "plt.plot(x,u[ts],x,u_rom_g[ts])\n",
    "plt.legend(['FOM','LS-ROM (g)'])\n",
    "plt.show()"
   ]
  },
  {
   "cell_type": "code",
   "execution_count": 28,
   "metadata": {},
   "outputs": [
    {
     "data": {
      "image/png": "[encoded data removed]",
      "text/plain": [
       "<Figure size 432x288 with 1 Axes>"
      ]
     },
     "metadata": {
      "needs_background": "light"
     },
     "output_type": "display_data"
    },
    {
     "name": "stdout",
     "output_type": "stream",
     "text": [
      "average relative error: 3.600236836397509%\n",
      "\n",
      "maximum relative error: 6.196376857032859%\n"
     ]
    }
   ],
   "source": [
    "rel_err=np.linalg.norm(u-u_rom_g,axis=1)/np.linalg.norm(u,axis=1)*100\n",
    "avg_rel_err=np.sqrt(np.sum(np.linalg.norm(u-u_rom_g,ord=2,axis=1)**2))/np.sqrt(np.sum(np.linalg.norm(u,ord=2,axis=1)**2))*100\n",
    "max_rel_err = np.max(rel_err)  \n",
    "\n",
    "plt.plot(dt*np.arange(nt),rel_err)\n",
    "plt.xlabel('Time (sec)')\n",
    "plt.ylabel('Relative Error (%)')\n",
    "plt.show()\n",
    "\n",
    "print(\"average relative error: {}%\".format(avg_rel_err))\n",
    "print()\n",
    "print(\"maximum relative error: {}%\".format(max_rel_err))"
   ]
  },
  {
   "cell_type": "code",
   "execution_count": 29,
   "metadata": {},
   "outputs": [
    {
     "name": "stdout",
     "output_type": "stream",
     "text": [
      "speed-up: 5.8835738883593445\n"
     ]
    }
   ],
   "source": [
    "# speed-up\n",
    "speed_up=t_total/t_total_rom_g\n",
    "print(\"speed-up: {}\".format(speed_up))"
   ]
  },
  {
   "cell_type": "markdown",
   "metadata": {},
   "source": [
    "# LS-ROM (lspg) ~ $O(f^2m)$"
   ]
  },
  {
   "cell_type": "code",
   "execution_count": 30,
   "metadata": {},
   "outputs": [],
   "source": [
    "def residual_lspg(uwn,uw,c,idxn1):\n",
    "    \n",
    "    f = c*(uw**2 - uw*uw[idxn1])\n",
    "    \n",
    "    r = -uwn + uw + f\n",
    "    \n",
    "    return r"
   ]
  },
  {
   "cell_type": "code",
   "execution_count": 31,
   "metadata": {
    "ExecuteTime": {
     "end_time": "2020-03-16T16:18:01.969743Z",
     "start_time": "2020-03-16T16:18:01.965405Z"
    }
   },
   "outputs": [],
   "source": [
    "def jacobian_lspg(u,c,phiT,idxn1):\n",
    "    \n",
    "    # J \\approx \\phi - \\Delta t J_f \\phi = (I-\\Delta t J_f) \\phi\n",
    "    \n",
    "    diag_comp = 1.0 + c*(2*u - u[idxn1])\n",
    "    diag_out = (diag_comp*phiT).T\n",
    "    \n",
    "    subdiag_comp = -c*u[1:]\n",
    "    subdiag_out = (subdiag_comp*phiT[:,:-1]).T\n",
    "    \n",
    "    top_row = -c*u[0]*phiT[:,-1]\n",
    "    \n",
    "    J = diag_out\n",
    "    J[1:] += subdiag_out\n",
    "    J[0] += top_row\n",
    "    \n",
    "    return J"
   ]
  },
  {
   "cell_type": "code",
   "execution_count": 32,
   "metadata": {
    "ExecuteTime": {
     "end_time": "2020-03-16T16:28:01.030579Z",
     "start_time": "2020-03-16T16:28:01.020019Z"
    }
   },
   "outputs": [],
   "source": [
    "amp = 1.0\n",
    "width = 1.0\n",
    "\n",
    "convergence_threshold = 1.0e-8\n",
    "maxk = 4\n",
    "\n",
    "nx = 1001\n",
    "dx = 2.0 / (nx - 1)\n",
    "nt = 501 \n",
    "dt = 0.5 / (nt - 1)  \n",
    "\n",
    "c = dt/dx\n",
    "\n",
    "x = np.linspace(0, 2, nx)\n",
    "\n",
    "idxn1=np.zeros(nx-1,dtype='int')\n",
    "idxn1[1:]=np.arange(nx-2)\n",
    "idxn1[0]=nx-2\n",
    "\n",
    "u0 = sine_wave(amp,width,nx,dx,x)\n",
    "u_hat0 = np.zeros(POD_basis,dtype='float32')"
   ]
  },
  {
   "cell_type": "code",
   "execution_count": 37,
   "metadata": {
    "ExecuteTime": {
     "end_time": "2020-03-16T16:28:14.291032Z",
     "start_time": "2020-03-16T16:28:02.220402Z"
    },
    "scrolled": true
   },
   "outputs": [
    {
     "name": "stdout",
     "output_type": "stream",
     "text": [
      "\n",
      "Time elapsed:  0.21546387672424316\n"
     ]
    }
   ],
   "source": [
    "t_total_rom_lspg_start=time.time()\n",
    "\n",
    "u_rom_lspg = np.zeros((nt,nx))\n",
    "u_rom_lspg[0] = u0\n",
    "u_hat = np.zeros((nt,POD_basis))\n",
    "u_hat[0] = u_hat0\n",
    "I_hat = np.eye(POD_basis)\n",
    "\n",
    "for n in range(nt-1): \n",
    "#     print(\"\")\n",
    "#     print(n,\"th time step:\")\n",
    "    \n",
    "    u_hatw = u_hat[n].copy()\n",
    "    \n",
    "    uw = u0[:-1] + phi.dot(u_hatw)\n",
    "    \n",
    "    J_lspg = jacobian_lspg(uw,c,phiT,idxn1)\n",
    "        \n",
    "    r_lspg = residual_lspg(u_rom_lspg[n,:-1],uw,c,idxn1)\n",
    "    r = r_lspg.dot(J_lspg)\n",
    "    \n",
    "    for k in range(maxk):   \n",
    "        J = J_lspg.T.dot(J_lspg)\n",
    "        \n",
    "        du_hatw = np.linalg.solve(J,-r)\n",
    "        \n",
    "        u_hatw = u_hatw + du_hatw\n",
    "        \n",
    "        uw = u0[:-1] + phi.dot(u_hatw)\n",
    "        \n",
    "        J_lspg = jacobian_lspg(uw,c,phiT,idxn1)\n",
    "    \n",
    "        r_lspg = residual_lspg(u_rom_lspg[n,:-1],uw,c,idxn1)\n",
    "        r = r_lspg.dot(J_lspg)\n",
    "\n",
    "        res = np.linalg.norm(r)\n",
    "#         print(k,\"th Newton iteration\", \"res:\", \"{:.8e}\".format(res))\n",
    "        \n",
    "        if res < convergence_threshold:\n",
    "            u_hat[n+1] = u_hatw.copy()\n",
    "            u_rom_lspg[n+1,:-1] = uw.copy()\n",
    "            u_rom_lspg[n+1,-1] = u_rom_lspg[n+1,0] \n",
    "            break\n",
    "            \n",
    "    if res >= convergence_threshold:\n",
    "        print(\"\\n non converged after {}th iteration\".format(maxk))\n",
    "        break\n",
    "        \n",
    "#     u_hat[n+1] = u_hatw.copy()\n",
    "#     u_rom_lspg[n+1,:-1] = uw.copy()\n",
    "#     u_rom_lspg[n+1,-1] = u_rom_lspg[n+1,0]        \n",
    "\n",
    "t_total_rom_lspg=time.time()-t_total_rom_lspg_start\n",
    "print()\n",
    "print(\"Time elapsed: \",t_total_rom_lspg)"
   ]
  },
  {
   "cell_type": "code",
   "execution_count": 38,
   "metadata": {},
   "outputs": [
    {
     "data": {
      "image/png": "[encoded data removed]",
      "text/plain": [
       "<Figure size 432x288 with 1 Axes>"
      ]
     },
     "metadata": {
      "needs_background": "light"
     },
     "output_type": "display_data"
    }
   ],
   "source": [
    "# plot\n",
    "ts=-1\n",
    "\n",
    "plt.figure()\n",
    "plt.plot(x,u[ts],x,u_rom_lspg[ts])\n",
    "plt.legend(['FOM','LS-ROM (lspg)'])\n",
    "plt.show()"
   ]
  },
  {
   "cell_type": "code",
   "execution_count": 39,
   "metadata": {},
   "outputs": [
    {
     "data": {
      "image/png": "[encoded data removed]",
      "text/plain": [
       "<Figure size 432x288 with 1 Axes>"
      ]
     },
     "metadata": {
      "needs_background": "light"
     },
     "output_type": "display_data"
    },
    {
     "name": "stdout",
     "output_type": "stream",
     "text": [
      "average relative error: 3.573345508073412%\n",
      "\n",
      "maximum relative error: 6.134322367722707%\n"
     ]
    }
   ],
   "source": [
    "rel_err=np.linalg.norm(u-u_rom_lspg,axis=1)/np.linalg.norm(u,axis=1)*100\n",
    "avg_rel_err=np.sqrt(np.sum(np.linalg.norm(u-u_rom_lspg,ord=2,axis=1)**2))/np.sqrt(np.sum(np.linalg.norm(u,ord=2,axis=1)**2))*100\n",
    "max_rel_err = np.max(rel_err)  \n",
    "\n",
    "plt.plot(dt*np.arange(nt),rel_err)\n",
    "plt.xlabel('Time (sec)')\n",
    "plt.ylabel('Relative Error (%)')\n",
    "plt.show()\n",
    "\n",
    "print(\"average relative error: {}%\".format(avg_rel_err))\n",
    "print()\n",
    "print(\"maximum relative error: {}%\".format(max_rel_err))"
   ]
  },
  {
   "cell_type": "code",
   "execution_count": 40,
   "metadata": {},
   "outputs": [
    {
     "name": "stdout",
     "output_type": "stream",
     "text": [
      "speed-up: 4.992861734982367\n"
     ]
    }
   ],
   "source": [
    "# speed-up\n",
    "speed_up=t_total/t_total_rom_lspg\n",
    "print(\"speed-up: {}\".format(speed_up))"
   ]
  },
  {
   "cell_type": "markdown",
   "metadata": {},
   "source": [
    "## Hyper reduction"
   ]
  },
  {
   "cell_type": "code",
   "execution_count": 41,
   "metadata": {},
   "outputs": [],
   "source": [
    "def DEIM(phi_f, nfeval=None):\n",
    "    \n",
    "    ninf=np.NINF\n",
    "    n,m=np.shape(phi_f)\n",
    "    if nfeval==None:\n",
    "        nfeval=m\n",
    "        \n",
    "    if nfeval<m:\n",
    "        print(\"ill-posed\\n\")\n",
    "        print(\"set # sampling equal to # modes\")\n",
    "        nfeval=m\n",
    "        \n",
    "    div,mod=np.divmod(nfeval,m)\n",
    "    \n",
    "    I=np.eye(n)\n",
    "    \n",
    "    l=0\n",
    "    ns=div+mod\n",
    "    u=np.reshape(phi_f[:,l],(n,1))\n",
    "    p=np.argsort(-np.abs(u),axis=0,kind='stable')[:ns]\n",
    "#     p=np.argmax(np.abs(u)) # when ns=1\n",
    "    ep=np.reshape(I[:,p],(n,ns))\n",
    "    U=u\n",
    "    P=ep\n",
    "\n",
    "    ns=div\n",
    "    for l in range(1,m):\n",
    "        u=np.reshape(phi_f[:,l],(n,1))\n",
    "        PT=np.transpose(P)\n",
    "        c=np.linalg.lstsq(PT@U,PT@u,rcond=None)[0]\n",
    "        r=np.abs(u-U@c)\n",
    "        r[p]=ninf\n",
    "        p=np.append(p,np.argsort(-r,axis=0,kind='stable')[:ns]) # ns!=1\n",
    "        ep=np.reshape(I[:,p[-ns:]],(n,ns))\n",
    "        U=np.concatenate((U,u),axis=1)\n",
    "        P=np.concatenate((P,ep),axis=1)\n",
    "        \n",
    "    return p"
   ]
  },
  {
   "cell_type": "code",
   "execution_count": 42,
   "metadata": {},
   "outputs": [
    {
     "data": {
      "image/png": "[encoded data removed]",
      "text/plain": [
       "<Figure size 432x288 with 1 Axes>"
      ]
     },
     "metadata": {
      "needs_background": "light"
     },
     "output_type": "display_data"
    }
   ],
   "source": [
    "# load snapshot\n",
    "snapshot_full=pickle.load(open('./data/snapshot_full.p','rb'))\n",
    "DEIM_snapshot=snapshot_full[:,:-1]\n",
    "\n",
    "# Do SVD\n",
    "Ur,Sr,VrT=np.linalg.svd(DEIM_snapshot.T,full_matrices=False)\n",
    "plt.figure()\n",
    "plt.semilogy(Sr)\n",
    "plt.show()"
   ]
  },
  {
   "cell_type": "code",
   "execution_count": 43,
   "metadata": {},
   "outputs": [
    {
     "name": "stdout",
     "output_type": "stream",
     "text": [
      "99.99988675117493\n",
      "99.69489574432373\n"
     ]
    }
   ],
   "source": [
    "# choose # of DEIM basis and DEIM samples\n",
    "DEIM_basis=30\n",
    "DEIM_samples=47\n",
    "\n",
    "acc=np.sum(Sr[:DEIM_basis]**2)/np.sum(Sr**2)*100\n",
    "print(acc)\n",
    "print(np.sum(Sr[:DEIM_basis])/np.sum(Sr)*100)"
   ]
  },
  {
   "cell_type": "code",
   "execution_count": 44,
   "metadata": {},
   "outputs": [],
   "source": [
    "# precompute\n",
    "phi_r=Ur[:,:DEIM_basis]\n",
    "z=DEIM(phi_r,DEIM_samples)\n",
    "ZT=np.eye(nx-1,dtype='float32')[z]\n",
    "Z=ZT.T\n",
    "precomp1=phi_r@np.linalg.pinv(ZT@phi_r)\n",
    "precomp=precomp1.T@precomp1"
   ]
  },
  {
   "cell_type": "code",
   "execution_count": 45,
   "metadata": {},
   "outputs": [],
   "source": [
    "# influential indices\n",
    "z_union=np.zeros((z.size,2),dtype='int')\n",
    "for i in range(z.size):\n",
    "    if z[i]==0:\n",
    "        z_union[i,0]=0\n",
    "        z_union[i,1]=nx-2\n",
    "    else:\n",
    "        z_union[i,0]=z[i]\n",
    "        z_union[i,1]=z[i]-1        \n",
    "z0=z_union[:,0]\n",
    "z1=z_union[:,1]\n",
    "\n",
    "z_union=np.unique(z_union.flatten())\n",
    "\n",
    "z_union0_ind=np.zeros(z0.size,dtype='int')\n",
    "z_union1_ind=np.zeros(z1.size,dtype='int')\n",
    "for i in range(z0.size):\n",
    "    z_union0_ind[i]=np.nonzero(np.isin(z_union,z0[i]))[0]\n",
    "    z_union1_ind[i]=np.nonzero(np.isin(z_union,z1[i]))[0]"
   ]
  },
  {
   "cell_type": "markdown",
   "metadata": {},
   "source": [
    "## Subbasis"
   ]
  },
  {
   "cell_type": "code",
   "execution_count": 46,
   "metadata": {},
   "outputs": [],
   "source": [
    "# Construct subbasis\n",
    "phi_sb=phi[z_union]\n",
    "phi_sbT=phi_sb.T"
   ]
  },
  {
   "cell_type": "markdown",
   "metadata": {},
   "source": [
    "## Efficient version ~ $O(fz^2)$, where $z$ is the number of sampling points"
   ]
  },
  {
   "cell_type": "code",
   "execution_count": 47,
   "metadata": {},
   "outputs": [],
   "source": [
    "def residual_lspg_hr(uwn_z,u_sb,z0_ind,z1_ind,c):\n",
    "    \n",
    "    # u_sb is subnet of u\n",
    "    # z_union[z0_ind] gives z0, which is z\n",
    "    # z_union[z1_ind] igves z1, which is z-1\n",
    "    \n",
    "    r = -uwn_z + u_sb[z0_ind] + c*(u_sb[z0_ind]**2 - u_sb[z0_ind]*u_sb[z1_ind])\n",
    "    \n",
    "    return r\n",
    "\n",
    "def jacobian_lspg_hr(u_sb,phi_sbT,z0_ind,z1_ind,c):\n",
    "    \n",
    "    # phi_sb is subnet of phi\n",
    "    \n",
    "    J = ((1.0 + c*(2*u_sb[z0_ind] - u_sb[z1_ind]))*phi_sbT[:,z0_ind]).T + (-c*u_sb[z0_ind]*phi_sbT[:,z1_ind]).T\n",
    "    \n",
    "    return J"
   ]
  },
  {
   "cell_type": "code",
   "execution_count": 48,
   "metadata": {},
   "outputs": [],
   "source": [
    "amp = 1.0\n",
    "width = 1.0\n",
    "\n",
    "convergence_threshold = 1.0e-8\n",
    "maxk = 4\n",
    "\n",
    "nx = 1001\n",
    "dx = 2.0 / (nx - 1)\n",
    "nt = 501 \n",
    "dt = 0.5 / (nt - 1)  \n",
    "\n",
    "c = dt/dx\n",
    "\n",
    "x = np.linspace(0, 2, nx)\n",
    "\n",
    "idxn1=np.zeros(nx-1,dtype='int')\n",
    "idxn1[1:]=np.arange(nx-2)\n",
    "idxn1[0]=nx-2\n",
    "\n",
    "u0 = sine_wave(amp,width,nx,dx,x)\n",
    "u_hat0=np.zeros(POD_basis,dtype='float32')"
   ]
  },
  {
   "cell_type": "code",
   "execution_count": 49,
   "metadata": {},
   "outputs": [
    {
     "name": "stdout",
     "output_type": "stream",
     "text": [
      "\n",
      "Time elapsed: 0.12458276748657227 sec\n"
     ]
    }
   ],
   "source": [
    "t_total_rom_lspg_hr_start=time.time()\n",
    "\n",
    "u_rom_lspg_hr = np.zeros((nt,nx))\n",
    "u_rom_lspg_hr[0] = u0\n",
    "u_hat = np.zeros((nt,POD_basis))\n",
    "u_hat[0] = u_hat0\n",
    "I_hat = np.eye(POD_basis)\n",
    "\n",
    "for n in range(nt-1): \n",
    "#     print(\"\")\n",
    "#     print(n,\"th time step:\")\n",
    "    \n",
    "    u_hatw = u_hat[n].copy()\n",
    "    \n",
    "    uw_sb = u0[z_union] + phi_sb.dot(u_hatw)\n",
    "    \n",
    "    J_lspg = jacobian_lspg_hr(uw_sb,phi_sbT,z_union0_ind,z_union1_ind,c)\n",
    "    J_lspgT = J_lspg.T\n",
    "        \n",
    "    r_lspg = residual_lspg_hr(u_rom_lspg_hr[n,z],uw_sb,z_union0_ind,z_union1_ind,c)\n",
    "    r = J_lspgT.dot(precomp.dot(r_lspg))\n",
    "    \n",
    "    for k in range(maxk):   \n",
    "        J = J_lspgT@precomp@J_lspg\n",
    "        \n",
    "        du_hatw = np.linalg.solve(J,-r)\n",
    "        \n",
    "        u_hatw = u_hatw + du_hatw\n",
    "        \n",
    "        uw_sb = u0[z_union] + phi_sb.dot(u_hatw)\n",
    "        \n",
    "        J_lspg = jacobian_lspg_hr(uw_sb,phi_sbT,z_union0_ind,z_union1_ind,c)\n",
    "        J_lspgT = J_lspg.T\n",
    "    \n",
    "        r_lspg = residual_lspg_hr(u_rom_lspg_hr[n,z],uw_sb,z_union0_ind,z_union1_ind,c)\n",
    "        r = J_lspgT.dot(precomp.dot(r_lspg))\n",
    "        \n",
    "        res = np.linalg.norm(r)\n",
    "#         print(k,\"th Newton iteration\", \"res:\", \"{:.8e}\".format(res))\n",
    "        \n",
    "        if res < convergence_threshold:\n",
    "            u_hat[n+1] = u_hatw.copy()\n",
    "            u_rom_lspg_hr[n+1,:-1] = u0[:-1] + phi.dot(u_hat[n+1])\n",
    "            u_rom_lspg_hr[n+1,-1] = u_rom_lspg_hr[n+1,0]\n",
    "            break\n",
    "            \n",
    "    if res >= convergence_threshold:\n",
    "        print(\"\\n non converged after {}th iteration\".format(maxk))\n",
    "        break\n",
    "        \n",
    "#     u_hat[n+1] = u_hatw.copy()\n",
    "#     u_rom_lspg_hr[n+1,:-1] = u0[:-1] + phi.dot(u_hat[n+1])\n",
    "#     u_rom_lspg_hr[n+1,-1] = u_rom_lspg_hr[n+1,0]\n",
    "\n",
    "t_total_rom_lspg_hr=time.time()-t_total_rom_lspg_hr_start\n",
    "print()\n",
    "print(\"Time elapsed: {} sec\".format(t_total_rom_lspg_hr))"
   ]
  },
  {
   "cell_type": "code",
   "execution_count": 50,
   "metadata": {},
   "outputs": [
    {
     "data": {
      "image/png": "[encoded data removed]",
      "text/plain": [
       "<Figure size 432x288 with 1 Axes>"
      ]
     },
     "metadata": {
      "needs_background": "light"
     },
     "output_type": "display_data"
    }
   ],
   "source": [
    "# plot\n",
    "ts=-1\n",
    "\n",
    "plt.figure()\n",
    "plt.plot(x,u[ts],x,u_rom_lspg_hr[ts])\n",
    "plt.legend(['FOM','LS-ROM (lspg hr)'])\n",
    "plt.show()"
   ]
  },
  {
   "cell_type": "code",
   "execution_count": 51,
   "metadata": {},
   "outputs": [
    {
     "data": {
      "image/png": "[encoded data removed]",
      "text/plain": [
       "<Figure size 432x288 with 1 Axes>"
      ]
     },
     "metadata": {
      "needs_background": "light"
     },
     "output_type": "display_data"
    },
    {
     "name": "stdout",
     "output_type": "stream",
     "text": [
      "average relative error: 3.532429714295504%\n",
      "\n",
      "maximum relative error: 6.074687326967075%\n"
     ]
    }
   ],
   "source": [
    "rel_err=np.linalg.norm(u-u_rom_lspg_hr,axis=1)/np.linalg.norm(u,axis=1)*100\n",
    "avg_rel_err=np.sqrt(np.sum(np.linalg.norm(u-u_rom_lspg_hr,ord=2,axis=1)**2))/np.sqrt(np.sum(np.linalg.norm(u,ord=2,axis=1)**2))*100\n",
    "max_rel_err = np.max(rel_err)  \n",
    "\n",
    "plt.plot(dt*np.arange(nt),rel_err)\n",
    "plt.xlabel('Time (sec)')\n",
    "plt.ylabel('Relative Error (%)')\n",
    "plt.show()\n",
    "\n",
    "print(\"average relative error: {}%\".format(avg_rel_err))\n",
    "print()\n",
    "print(\"maximum relative error: {}%\".format(max_rel_err))"
   ]
  },
  {
   "cell_type": "code",
   "execution_count": 52,
   "metadata": {},
   "outputs": [
    {
     "name": "stdout",
     "output_type": "stream",
     "text": [
      "speed-up: 8.63507343006633\n"
     ]
    }
   ],
   "source": [
    "# speed-up\n",
    "speed_up=t_total/t_total_rom_lspg_hr\n",
    "print(\"speed-up: {}\".format(speed_up))"
   ]
  },
  {
   "cell_type": "markdown",
   "metadata": {},
   "source": [
    "# Save data to mat file"
   ]
  },
  {
   "cell_type": "code",
   "execution_count": 53,
   "metadata": {},
   "outputs": [],
   "source": [
    "from scipy.io import savemat, loadmat"
   ]
  },
  {
   "cell_type": "code",
   "execution_count": 54,
   "metadata": {},
   "outputs": [],
   "source": [
    "savemat(\"./data/LSROM.mat\",mdict={\"u_rom_lspg_hr\":u_rom_lspg_hr,\"u\":u})"
   ]
  },
  {
   "cell_type": "code",
   "execution_count": null,
   "metadata": {},
   "outputs": [],
   "source": []
  }
 ],
 "metadata": {
  "kernelspec": {
   "display_name": "Python 3",
   "language": "python",
   "name": "python3"
  },
  "language_info": {
   "codemirror_mode": {
    "name": "ipython",
    "version": 3
   },
   "file_extension": ".py",
   "mimetype": "text/x-python",
   "name": "python",
   "nbconvert_exporter": "python",
   "pygments_lexer": "ipython3",
   "version": "3.7.6"
  }
 },
 "nbformat": 4,
 "nbformat_minor": 2
}
