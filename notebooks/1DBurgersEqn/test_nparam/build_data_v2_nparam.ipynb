{
 "cells": [
  {
   "cell_type": "code",
   "execution_count": 23,
   "metadata": {},
   "outputs": [],
   "source": [
    "import numpy as np            \n",
    "from matplotlib import pyplot as plt\n",
    "import matplotlib.animation as animation \n",
    "%matplotlib inline\n",
    "import time, sys\n",
    "from scipy.sparse import spdiags\n",
    "from scipy import sparse\n",
    "from scipy.sparse.linalg import spsolve\n",
    "import pickle\n",
    "from scipy.io import savemat,loadmat"
   ]
  },
  {
   "cell_type": "markdown",
   "metadata": {},
   "source": [
    "## Variables"
   ]
  },
  {
   "cell_type": "code",
   "execution_count": 24,
   "metadata": {},
   "outputs": [],
   "source": [
    "maxk = 10\n",
    "convergence_threshold = 1.0e-8\n",
    "\n",
    "nx = 1001\n",
    "dx = 2.0 / (nx - 1)\n",
    "nt = 500 \n",
    "dt = 0.5 / nt \n",
    "c = dt/dx\n",
    "\n",
    "x=np.linspace(0, 2, nx)"
   ]
  },
  {
   "cell_type": "markdown",
   "metadata": {},
   "source": [
    "## Functions"
   ]
  },
  {
   "cell_type": "code",
   "execution_count": 25,
   "metadata": {},
   "outputs": [],
   "source": [
    "def kth_diag_indices(a, k):\n",
    "    rows, cols = np.diag_indices_from(a)\n",
    "    if k < 0:\n",
    "        return rows[-k:], cols[:k]\n",
    "    elif k > 0:\n",
    "        return rows[:-k], cols[k:]\n",
    "    else:\n",
    "        return rows, cols"
   ]
  },
  {
   "cell_type": "code",
   "execution_count": 26,
   "metadata": {},
   "outputs": [],
   "source": [
    "def sine_wave(amp,width):\n",
    "    \n",
    "    u0 = np.zeros(nx) + 1.0\n",
    "    u0[1:int(width/dx+1)] = 1.0 + amp/2*(np.sin(2*np.pi/(x[int(width/dx+1)]-x[1])*x[1:int(width/dx+1)]-np.pi/2)+1)\n",
    "    u0[-1] = u0[0]\n",
    "    \n",
    "    return u0"
   ]
  },
  {
   "cell_type": "code",
   "execution_count": 27,
   "metadata": {},
   "outputs": [],
   "source": [
    "def gaussian(amp,width):\n",
    "    \n",
    "    u0 = amp*np.exp(-(x-0.0)**2/(2*width**2))\n",
    "    u0[-1] = u0[0]\n",
    "    \n",
    "    return u0"
   ]
  },
  {
   "cell_type": "code",
   "execution_count": 28,
   "metadata": {},
   "outputs": [
    {
     "data": {
      "text/plain": [
       "[<matplotlib.lines.Line2D at 0x7f039aa37fd0>]"
      ]
     },
     "execution_count": 28,
     "metadata": {},
     "output_type": "execute_result"
    },
    {
     "data": {
      "image/png": "[encoded data removed]",
      "text/plain": [
       "<Figure size 432x288 with 1 Axes>"
      ]
     },
     "metadata": {
      "needs_background": "light"
     },
     "output_type": "display_data"
    }
   ],
   "source": [
    "plt.plot(x,sine_wave(1,1))"
   ]
  },
  {
   "cell_type": "code",
   "execution_count": 29,
   "metadata": {},
   "outputs": [],
   "source": [
    "def residual(un,uw,c,idxn1):\n",
    "    \n",
    "    # r = -u^{n} + u^{n+1} -dt*f(u^{n+1})\n",
    "    \n",
    "    f = c*(uw**2 - uw*uw[idxn1]) \n",
    "    \n",
    "    r = -un + uw + f\n",
    "    \n",
    "    return r"
   ]
  },
  {
   "cell_type": "code",
   "execution_count": 30,
   "metadata": {},
   "outputs": [],
   "source": [
    "def jacobian(u,c,idxn1):\n",
    "\n",
    "    # J = I - dt*dfdu\n",
    "    \n",
    "    diag_comp = 1.0 + c*(2*u - u[idxn1])\n",
    "    subdiag_comp = np.ones(nx-1)\n",
    "    subdiag_comp[:-1] = -c*u[1:]\n",
    "        \n",
    "    data = np.array([diag_comp, subdiag_comp])\n",
    "    J = spdiags(data,[0,-1],nx-1,nx-1,format='csr')\n",
    "    J[0,-1] = -c*u[0]\n",
    "    \n",
    "    return J\n",
    "\n",
    "#     diag_comp = 1.0 + c*(2*u - u[idxn1])\n",
    "#     subdiag_comp = -c*u\n",
    "    \n",
    "#     J = np.diag(diag_comp,0)\n",
    "#     J[dn1] = subdiag_comp[1:]\n",
    "#     J[0,-1] = -c*u[0]\n",
    "    \n",
    "#     return J"
   ]
  },
  {
   "cell_type": "code",
   "execution_count": 31,
   "metadata": {},
   "outputs": [],
   "source": [
    "def solve(u0):\n",
    "\n",
    "    u = np.zeros((nt+1,nx))\n",
    "    u_inter=np.array([])\n",
    "    u[0] = u0\n",
    "    u_inter=np.append(u_inter,u0[:-1])\n",
    "    I = sparse.eye(nx,format='csr')\n",
    "    for n in range(nt): \n",
    "        uw = u[n,:-1].copy()\n",
    "        r = residual(u[n,:-1],uw,c,idxn1)\n",
    "        \n",
    "        for k in range(maxk):\n",
    "            J = jacobian(uw,c,idxn1)\n",
    "            duw = spsolve(J, -r)\n",
    "#             duw = np.linalg.solve(J,-r)\n",
    "            uw = uw + duw\n",
    "            r = residual(u[n,:-1],uw,c,idxn1)\n",
    "            u_inter=np.append(u_inter,uw)\n",
    "\n",
    "            rel_residual = np.linalg.norm(r)/np.linalg.norm(u[n,:-1])\n",
    "            if rel_residual < convergence_threshold:\n",
    "                u[n+1,:-1] = uw.copy()\n",
    "                u[n+1,-1] = u[n+1,0]\n",
    "                break\n",
    "    \n",
    "    return u,u_inter.reshape((-1,nx-1))"
   ]
  },
  {
   "cell_type": "code",
   "execution_count": 32,
   "metadata": {},
   "outputs": [],
   "source": [
    "def generate_dataset(amp_arr,width_arr):\n",
    "    \n",
    "    num_amp=amp_arr.shape[0]\n",
    "    num_width=width_arr.shape[0]\n",
    "    data = []\n",
    "    data_inter = []\n",
    "    for i in range(num_amp):\n",
    "        for j in range(num_width):\n",
    "#             u0=square_wave(amp_arr[i],width_arr[j])\n",
    "            u0=sine_wave(amp_arr[i],width_arr[j])\n",
    "#             u0=gaussian(amp_arr[i],width_arr[j])\n",
    "            u,u_inter=solve(u0)\n",
    "            data.append(u)\n",
    "            data_inter.append(u_inter)\n",
    "    data = np.vstack(data)   \n",
    "    data_inter = np.vstack(data_inter)   \n",
    "    \n",
    "    return data, data_inter"
   ]
  },
  {
   "cell_type": "markdown",
   "metadata": {},
   "source": [
    "## Build a  solution snapshot"
   ]
  },
  {
   "cell_type": "code",
   "execution_count": 51,
   "metadata": {},
   "outputs": [],
   "source": [
    "dn1=kth_diag_indices(np.eye(nx-1),-1)\n",
    "idxn1=np.zeros(nx-1,dtype='int')\n",
    "idxn1[1:]=np.arange(nx-2)\n",
    "idxn1[0]=nx-2"
   ]
  },
  {
   "cell_type": "code",
   "execution_count": 52,
   "metadata": {},
   "outputs": [
    {
     "name": "stdout",
     "output_type": "stream",
     "text": [
      "width_arr: [1.]\n"
     ]
    }
   ],
   "source": [
    "width_arr=np.array([1.0])\n",
    "print('width_arr:',width_arr)"
   ]
  },
  {
   "cell_type": "code",
   "execution_count": 54,
   "metadata": {
    "scrolled": false
   },
   "outputs": [
    {
     "name": "stdout",
     "output_type": "stream",
     "text": [
      "./data/snapshot_full_nparam_2.p\n",
      "amp_arr: [0.9 1.1]\n",
      "(1002, 1001)\n",
      "./data/snapshot_full_nparam_4.p\n",
      "amp_arr: [0.9  0.95 1.05 1.1 ]\n",
      "(2004, 1001)\n",
      "./data/snapshot_full_nparam_6.p\n",
      "amp_arr: [0.9        0.93333333 0.96666667 1.03333333 1.06666667 1.1       ]\n",
      "(3006, 1001)\n",
      "./data/snapshot_full_nparam_8.p\n",
      "amp_arr: [0.9   0.925 0.95  0.975 1.025 1.05  1.075 1.1  ]\n",
      "(4008, 1001)\n",
      "./data/snapshot_full_nparam_10.p\n",
      "amp_arr: [0.9  0.92 0.94 0.96 0.98 1.02 1.04 1.06 1.08 1.1 ]\n",
      "(5010, 1001)\n"
     ]
    }
   ],
   "source": [
    "for nparam in [2,4,6,8,10]:\n",
    "\n",
    "    file_name='./data/snapshot_full_nparam_{}.p'.format(nparam)\n",
    "    print(file_name)\n",
    "    \n",
    "    amp_arr=np.linspace(0.9,1.1,num=nparam+1)\n",
    "    amp_arr=np.delete(amp_arr,nparam//2)\n",
    "    print('amp_arr:',amp_arr)\n",
    "\n",
    "    snapshot_full,snapshot_full_inter = generate_dataset(amp_arr,width_arr)\n",
    "    pickle.dump(snapshot_full.astype('float32'), open(file_name, \"wb\"))\n",
    "    print(snapshot_full.shape)"
   ]
  },
  {
   "cell_type": "markdown",
   "metadata": {},
   "source": [
    "## FOM solution"
   ]
  },
  {
   "cell_type": "code",
   "execution_count": 55,
   "metadata": {},
   "outputs": [
    {
     "name": "stdout",
     "output_type": "stream",
     "text": [
      "amp_arr: [1.]\n",
      "width_arr: [1.]\n",
      "(501, 1001)\n"
     ]
    }
   ],
   "source": [
    "amp_arr = np.array([1.0])\n",
    "print('amp_arr:',amp_arr)\n",
    "\n",
    "width_arr = np.array([1.0])\n",
    "print('width_arr:',width_arr)\n",
    "\n",
    "snapshot_full,snapshot_full_inter = generate_dataset(amp_arr,width_arr)\n",
    "pickle.dump(snapshot_full.astype('float32'), open(\"./data/FOM.p\", \"wb\"))\n",
    "print(snapshot_full.shape)"
   ]
  },
  {
   "cell_type": "code",
   "execution_count": null,
   "metadata": {},
   "outputs": [],
   "source": []
  }
 ],
 "metadata": {
  "kernelspec": {
   "display_name": "Python 3",
   "language": "python",
   "name": "python3"
  },
  "language_info": {
   "codemirror_mode": {
    "name": "ipython",
    "version": 3
   },
   "file_extension": ".py",
   "mimetype": "text/x-python",
   "name": "python",
   "nbconvert_exporter": "python",
   "pygments_lexer": "ipython3",
   "version": "3.7.6"
  }
 },
 "nbformat": 4,
 "nbformat_minor": 2
}
