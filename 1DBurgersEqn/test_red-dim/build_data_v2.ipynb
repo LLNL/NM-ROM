{
 "cells": [
  {
   "cell_type": "code",
   "execution_count": 1,
   "metadata": {},
   "outputs": [],
   "source": [
    "import numpy as np            \n",
    "from matplotlib import pyplot as plt\n",
    "import matplotlib.animation as animation \n",
    "%matplotlib inline\n",
    "import time, sys\n",
    "from scipy.sparse import spdiags\n",
    "from scipy import sparse\n",
    "from scipy.sparse.linalg import spsolve\n",
    "import pickle\n",
    "from scipy.io import savemat,loadmat"
   ]
  },
  {
   "cell_type": "markdown",
   "metadata": {},
   "source": [
    "## Variables"
   ]
  },
  {
   "cell_type": "code",
   "execution_count": 2,
   "metadata": {},
   "outputs": [],
   "source": [
    "maxk = 10\n",
    "convergence_threshold = 1.0e-8\n",
    "\n",
    "nx = 1001\n",
    "dx = 2.0 / (nx - 1)\n",
    "nt = 500 \n",
    "dt = 0.5 / nt \n",
    "c = dt/dx\n",
    "\n",
    "x=np.linspace(0, 2, nx)"
   ]
  },
  {
   "cell_type": "markdown",
   "metadata": {},
   "source": [
    "## Functions"
   ]
  },
  {
   "cell_type": "code",
   "execution_count": 3,
   "metadata": {},
   "outputs": [],
   "source": [
    "def kth_diag_indices(a, k):\n",
    "    rows, cols = np.diag_indices_from(a)\n",
    "    if k < 0:\n",
    "        return rows[-k:], cols[:k]\n",
    "    elif k > 0:\n",
    "        return rows[:-k], cols[k:]\n",
    "    else:\n",
    "        return rows, cols"
   ]
  },
  {
   "cell_type": "code",
   "execution_count": 4,
   "metadata": {},
   "outputs": [],
   "source": [
    "def sine_wave(amp,width):\n",
    "    \n",
    "    u0 = np.zeros(nx) + 1.0\n",
    "    u0[1:int(width/dx+1)] = 1.0 + amp/2*(np.sin(2*np.pi/(x[int(width/dx+1)]-x[1])*x[1:int(width/dx+1)]-np.pi/2)+1)\n",
    "    u0[-1] = u0[0]\n",
    "    \n",
    "    return u0"
   ]
  },
  {
   "cell_type": "code",
   "execution_count": 5,
   "metadata": {},
   "outputs": [],
   "source": [
    "def gaussian(amp,width):\n",
    "    \n",
    "    u0 = amp*np.exp(-(x-0.0)**2/(2*width**2))\n",
    "    u0[-1] = u0[0]\n",
    "    \n",
    "    return u0"
   ]
  },
  {
   "cell_type": "code",
   "execution_count": 6,
   "metadata": {},
   "outputs": [
    {
     "data": {
      "text/plain": [
       "[<matplotlib.lines.Line2D at 0x7f87f82c1890>]"
      ]
     },
     "execution_count": 6,
     "metadata": {},
     "output_type": "execute_result"
    },
    {
     "data": {
      "image/png": "[encoded data removed]",
      "text/plain": [
       "<Figure size 432x288 with 1 Axes>"
      ]
     },
     "metadata": {
      "needs_background": "light"
     },
     "output_type": "display_data"
    }
   ],
   "source": [
    "plt.plot(x,sine_wave(1,1))"
   ]
  },
  {
   "cell_type": "code",
   "execution_count": 7,
   "metadata": {},
   "outputs": [],
   "source": [
    "def residual(un,uw,c,idxn1):\n",
    "    \n",
    "    # r = -u^{n} + u^{n+1} -dt*f(u^{n+1})\n",
    "    \n",
    "    f = c*(uw**2 - uw*uw[idxn1]) \n",
    "    \n",
    "    r = -un + uw + f\n",
    "    \n",
    "    return r"
   ]
  },
  {
   "cell_type": "code",
   "execution_count": 8,
   "metadata": {},
   "outputs": [],
   "source": [
    "def jacobian(u,c,idxn1):\n",
    "\n",
    "    # J = I - dt*dfdu\n",
    "    \n",
    "    diag_comp = 1.0 + c*(2*u - u[idxn1])\n",
    "    subdiag_comp = np.ones(nx-1)\n",
    "    subdiag_comp[:-1] = -c*u[1:]\n",
    "        \n",
    "    data = np.array([diag_comp, subdiag_comp])\n",
    "    J = spdiags(data,[0,-1],nx-1,nx-1,format='csr')\n",
    "    J[0,-1] = -c*u[0]\n",
    "    \n",
    "    return J\n",
    "\n",
    "#     diag_comp = 1.0 + c*(2*u - u[idxn1])\n",
    "#     subdiag_comp = -c*u\n",
    "    \n",
    "#     J = np.diag(diag_comp,0)\n",
    "#     J[dn1] = subdiag_comp[1:]\n",
    "#     J[0,-1] = -c*u[0]\n",
    "    \n",
    "#     return J"
   ]
  },
  {
   "cell_type": "code",
   "execution_count": 9,
   "metadata": {},
   "outputs": [],
   "source": [
    "def solve(u0):\n",
    "\n",
    "    u = np.zeros((nt+1,nx))\n",
    "    u_inter=np.array([])\n",
    "    u[0] = u0\n",
    "    u_inter=np.append(u_inter,u0[:-1])\n",
    "    I = sparse.eye(nx,format='csr')\n",
    "    for n in range(nt): \n",
    "        uw = u[n,:-1].copy()\n",
    "        r = residual(u[n,:-1],uw,c,idxn1)\n",
    "        \n",
    "        for k in range(maxk):\n",
    "            J = jacobian(uw,c,idxn1)\n",
    "            duw = spsolve(J, -r)\n",
    "#             duw = np.linalg.solve(J,-r)\n",
    "            uw = uw + duw\n",
    "            r = residual(u[n,:-1],uw,c,idxn1)\n",
    "            u_inter=np.append(u_inter,uw)\n",
    "\n",
    "            rel_residual = np.linalg.norm(r)/np.linalg.norm(u[n,:-1])\n",
    "            if rel_residual < convergence_threshold:\n",
    "                u[n+1,:-1] = uw.copy()\n",
    "                u[n+1,-1] = u[n+1,0]\n",
    "                break\n",
    "    \n",
    "    return u,u_inter.reshape((-1,nx-1))"
   ]
  },
  {
   "cell_type": "code",
   "execution_count": 10,
   "metadata": {},
   "outputs": [],
   "source": [
    "def generate_dataset(amp_arr,width_arr):\n",
    "    \n",
    "    num_amp=amp_arr.shape[0]\n",
    "    num_width=width_arr.shape[0]\n",
    "    data = []\n",
    "    data_inter = []\n",
    "    for i in range(num_amp):\n",
    "        for j in range(num_width):\n",
    "#             u0=square_wave(amp_arr[i],width_arr[j])\n",
    "            u0=sine_wave(amp_arr[i],width_arr[j])\n",
    "#             u0=gaussian(amp_arr[i],width_arr[j])\n",
    "            u,u_inter=solve(u0)\n",
    "            data.append(u)\n",
    "            data_inter.append(u_inter)\n",
    "    data = np.vstack(data)   \n",
    "    data_inter = np.vstack(data_inter)   \n",
    "    \n",
    "    return data, data_inter"
   ]
  },
  {
   "cell_type": "markdown",
   "metadata": {},
   "source": [
    "## Build a  solution snapshot"
   ]
  },
  {
   "cell_type": "code",
   "execution_count": 11,
   "metadata": {},
   "outputs": [],
   "source": [
    "dn1=kth_diag_indices(np.eye(nx-1),-1)\n",
    "idxn1=np.zeros(nx-1,dtype='int')\n",
    "idxn1[1:]=np.arange(nx-2)\n",
    "idxn1[0]=nx-2"
   ]
  },
  {
   "cell_type": "code",
   "execution_count": 12,
   "metadata": {
    "scrolled": false
   },
   "outputs": [
    {
     "name": "stdout",
     "output_type": "stream",
     "text": [
      "[0.9 1.1]\n",
      "[1.]\n"
     ]
    }
   ],
   "source": [
    "# # test\n",
    "# amp=1\n",
    "# width=0.5\n",
    "# u0=square_wave(amp,width)\n",
    "# # u0=sine_wave(amp,width)\n",
    "# u=solve(u0)\n",
    "\n",
    "# for i in range(nt):\n",
    "#     plt.plot(x, u[i], 'r--')\n",
    "#     plt.pause(0.001)\n",
    "#     plt.clf()\n",
    "\n",
    "# amp_arr = np.linspace(0.9,1.1,5)\n",
    "# width_arr = np.linspace(0.9,1.1,5)\n",
    "amp_arr = np.array([0.9,1.1])\n",
    "width_arr = np.array([1.0])\n",
    "print(amp_arr)\n",
    "print(width_arr)"
   ]
  },
  {
   "cell_type": "code",
   "execution_count": 13,
   "metadata": {},
   "outputs": [
    {
     "name": "stderr",
     "output_type": "stream",
     "text": [
      "/home/kim101/anaconda3/lib/python3.7/site-packages/scipy/sparse/_index.py:84: SparseEfficiencyWarning: Changing the sparsity structure of a csr_matrix is expensive. lil_matrix is more efficient.\n",
      "  self._set_intXint(row, col, x.flat[0])\n"
     ]
    }
   ],
   "source": [
    "snapshot_full,snapshot_full_inter = generate_dataset(amp_arr,width_arr)\n",
    "pickle.dump(snapshot_full.astype('float32'), open(\"./data/snapshot_full.p\", \"wb\"))\n",
    "pickle.dump(snapshot_full_inter.astype('float32'), open(\"./data/snapshot_full_inter.p\", \"wb\"))"
   ]
  },
  {
   "cell_type": "code",
   "execution_count": 14,
   "metadata": {},
   "outputs": [
    {
     "name": "stdout",
     "output_type": "stream",
     "text": [
      "(1002, 1001)\n",
      "(2002, 1000)\n"
     ]
    }
   ],
   "source": [
    "print(snapshot_full.shape)\n",
    "print(snapshot_full_inter.shape)"
   ]
  },
  {
   "cell_type": "code",
   "execution_count": 15,
   "metadata": {},
   "outputs": [
    {
     "data": {
      "text/plain": [
       "[<matplotlib.lines.Line2D at 0x7f87f6998110>]"
      ]
     },
     "execution_count": 15,
     "metadata": {},
     "output_type": "execute_result"
    },
    {
     "data": {
      "image/png": "[encoded data removed]",
      "text/plain": [
       "<Figure size 432x288 with 1 Axes>"
      ]
     },
     "metadata": {
      "needs_background": "light"
     },
     "output_type": "display_data"
    }
   ],
   "source": [
    "plt.plot(x,snapshot_full[0])"
   ]
  },
  {
   "cell_type": "code",
   "execution_count": 16,
   "metadata": {
    "scrolled": true
   },
   "outputs": [
    {
     "data": {
      "text/plain": [
       "[<matplotlib.lines.Line2D at 0x7f87f30eb310>]"
      ]
     },
     "execution_count": 16,
     "metadata": {},
     "output_type": "execute_result"
    },
    {
     "data": {
      "image/png": "[encoded data removed]",
      "text/plain": [
       "<Figure size 432x288 with 1 Axes>"
      ]
     },
     "metadata": {
      "needs_background": "light"
     },
     "output_type": "display_data"
    }
   ],
   "source": [
    "plt.plot(x,snapshot_full[-1])"
   ]
  },
  {
   "cell_type": "code",
   "execution_count": 17,
   "metadata": {},
   "outputs": [
    {
     "name": "stdout",
     "output_type": "stream",
     "text": [
      "[1.]\n",
      "[1.]\n"
     ]
    }
   ],
   "source": [
    "# amp_arr = np.linspace(0.9,1.1,5)\n",
    "# width_arr = np.linspace(0.9,1.1,5)\n",
    "amp_arr = np.array([1.0])\n",
    "width_arr = np.array([1.0])\n",
    "print(amp_arr)\n",
    "print(width_arr)"
   ]
  },
  {
   "cell_type": "code",
   "execution_count": 18,
   "metadata": {},
   "outputs": [],
   "source": [
    "snapshot_full,snapshot_full_inter = generate_dataset(amp_arr,width_arr)\n",
    "pickle.dump(snapshot_full.astype('float32'), open(\"./data/FOM.p\", \"wb\"))"
   ]
  },
  {
   "cell_type": "code",
   "execution_count": 19,
   "metadata": {},
   "outputs": [
    {
     "name": "stdout",
     "output_type": "stream",
     "text": [
      "(501, 1001)\n"
     ]
    }
   ],
   "source": [
    "print(snapshot_full.shape)"
   ]
  },
  {
   "cell_type": "code",
   "execution_count": 20,
   "metadata": {},
   "outputs": [
    {
     "data": {
      "text/plain": [
       "[<matplotlib.lines.Line2D at 0x7f87f3076190>]"
      ]
     },
     "execution_count": 20,
     "metadata": {},
     "output_type": "execute_result"
    },
    {
     "data": {
      "image/png": "[encoded data removed]",
      "text/plain": [
       "<Figure size 432x288 with 1 Axes>"
      ]
     },
     "metadata": {
      "needs_background": "light"
     },
     "output_type": "display_data"
    }
   ],
   "source": [
    "plt.plot(x,snapshot_full[0])"
   ]
  },
  {
   "cell_type": "code",
   "execution_count": 21,
   "metadata": {},
   "outputs": [
    {
     "data": {
      "text/plain": [
       "[<matplotlib.lines.Line2D at 0x7f87f3035910>]"
      ]
     },
     "execution_count": 21,
     "metadata": {},
     "output_type": "execute_result"
    },
    {
     "data": {
      "image/png": "[encoded data removed]",
      "text/plain": [
       "<Figure size 432x288 with 1 Axes>"
      ]
     },
     "metadata": {
      "needs_background": "light"
     },
     "output_type": "display_data"
    }
   ],
   "source": [
    "plt.plot(x,snapshot_full[-1])"
   ]
  },
  {
   "cell_type": "code",
   "execution_count": null,
   "metadata": {},
   "outputs": [],
   "source": []
  }
 ],
 "metadata": {
  "kernelspec": {
   "display_name": "Python 3",
   "language": "python",
   "name": "python3"
  },
  "language_info": {
   "codemirror_mode": {
    "name": "ipython",
    "version": 3
   },
   "file_extension": ".py",
   "mimetype": "text/x-python",
   "name": "python",
   "nbconvert_exporter": "python",
   "pygments_lexer": "ipython3",
   "version": "3.7.6"
  }
 },
 "nbformat": 4,
 "nbformat_minor": 2
}
