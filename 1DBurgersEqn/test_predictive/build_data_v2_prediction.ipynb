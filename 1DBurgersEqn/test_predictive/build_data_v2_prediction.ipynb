{
 "cells": [
  {
   "cell_type": "code",
   "execution_count": 1,
   "metadata": {},
   "outputs": [],
   "source": [
    "import numpy as np            \n",
    "from matplotlib import pyplot as plt\n",
    "import matplotlib.animation as animation \n",
    "%matplotlib inline\n",
    "import time, sys\n",
    "from scipy.sparse import spdiags\n",
    "from scipy import sparse\n",
    "from scipy.sparse.linalg import spsolve\n",
    "import pickle\n",
    "from scipy.io import savemat,loadmat"
   ]
  },
  {
   "cell_type": "markdown",
   "metadata": {},
   "source": [
    "## Variables"
   ]
  },
  {
   "cell_type": "code",
   "execution_count": 2,
   "metadata": {},
   "outputs": [],
   "source": [
    "maxk = 10\n",
    "convergence_threshold = 1.0e-8\n",
    "\n",
    "nx = 1001\n",
    "dx = 2.0 / (nx - 1)\n",
    "nt = 500 \n",
    "dt = 0.5 / nt \n",
    "c = dt/dx\n",
    "\n",
    "x=np.linspace(0, 2, nx)"
   ]
  },
  {
   "cell_type": "markdown",
   "metadata": {},
   "source": [
    "## Functions"
   ]
  },
  {
   "cell_type": "code",
   "execution_count": 3,
   "metadata": {},
   "outputs": [],
   "source": [
    "def kth_diag_indices(a, k):\n",
    "    rows, cols = np.diag_indices_from(a)\n",
    "    if k < 0:\n",
    "        return rows[-k:], cols[:k]\n",
    "    elif k > 0:\n",
    "        return rows[:-k], cols[k:]\n",
    "    else:\n",
    "        return rows, cols"
   ]
  },
  {
   "cell_type": "code",
   "execution_count": 4,
   "metadata": {},
   "outputs": [],
   "source": [
    "def sine_wave(amp,width):\n",
    "    \n",
    "    u0 = np.zeros(nx) + 1.0\n",
    "    u0[1:int(width/dx+1)] = 1.0 + amp/2*(np.sin(2*np.pi/(x[int(width/dx+1)]-x[1])*x[1:int(width/dx+1)]-np.pi/2)+1)\n",
    "    u0[-1] = u0[0]\n",
    "    \n",
    "    return u0"
   ]
  },
  {
   "cell_type": "code",
   "execution_count": 5,
   "metadata": {},
   "outputs": [],
   "source": [
    "def residual(un,uw,c,idxn1):\n",
    "    \n",
    "    # r = -u^{n} + u^{n+1} -dt*f(u^{n+1})\n",
    "    \n",
    "    f = c*(uw**2 - uw*uw[idxn1]) \n",
    "    \n",
    "    r = -un + uw + f\n",
    "    \n",
    "    return r"
   ]
  },
  {
   "cell_type": "code",
   "execution_count": 6,
   "metadata": {},
   "outputs": [],
   "source": [
    "def jacobian(u,c,idxn1):\n",
    "\n",
    "    # J = I - dt*dfdu\n",
    "    \n",
    "    diag_comp = 1.0 + c*(2*u - u[idxn1])\n",
    "    subdiag_comp = np.ones(nx-1)\n",
    "    subdiag_comp[:-1] = -c*u[1:]\n",
    "        \n",
    "    data = np.array([diag_comp, subdiag_comp])\n",
    "    J = spdiags(data,[0,-1],nx-1,nx-1,format='csr')\n",
    "    J[0,-1] = -c*u[0]\n",
    "    \n",
    "    return J\n",
    "\n",
    "#     diag_comp = 1.0 + c*(2*u - u[idxn1])\n",
    "#     subdiag_comp = -c*u\n",
    "    \n",
    "#     J = np.diag(diag_comp,0)\n",
    "#     J[dn1] = subdiag_comp[1:]\n",
    "#     J[0,-1] = -c*u[0]\n",
    "    \n",
    "#     return J"
   ]
  },
  {
   "cell_type": "code",
   "execution_count": 7,
   "metadata": {},
   "outputs": [],
   "source": [
    "def solve(u0):\n",
    "\n",
    "    u = np.zeros((nt+1,nx))\n",
    "    u[0] = u0\n",
    "    I = sparse.eye(nx,format='csr')\n",
    "    for n in range(nt): \n",
    "        uw = u[n,:-1].copy()\n",
    "        r = residual(u[n,:-1],uw,c,idxn1)\n",
    "        \n",
    "        for k in range(maxk):\n",
    "            J = jacobian(uw,c,idxn1)\n",
    "            duw = spsolve(J, -r)\n",
    "#             duw = np.linalg.solve(J,-r)\n",
    "            uw = uw + duw\n",
    "            r = residual(u[n,:-1],uw,c,idxn1)\n",
    "\n",
    "            rel_residual = np.linalg.norm(r)/np.linalg.norm(u[n,:-1])\n",
    "            if rel_residual < convergence_threshold:\n",
    "                u[n+1,:-1] = uw.copy()\n",
    "                u[n+1,-1] = u[n+1,0]\n",
    "                break\n",
    "    \n",
    "    return u"
   ]
  },
  {
   "cell_type": "markdown",
   "metadata": {},
   "source": [
    "## Build FOM solutions"
   ]
  },
  {
   "cell_type": "code",
   "execution_count": 8,
   "metadata": {},
   "outputs": [],
   "source": [
    "dn1=kth_diag_indices(np.eye(nx-1),-1)\n",
    "idxn1=np.zeros(nx-1,dtype='int')\n",
    "idxn1[1:]=np.arange(nx-2)\n",
    "idxn1[0]=nx-2"
   ]
  },
  {
   "cell_type": "code",
   "execution_count": 11,
   "metadata": {
    "scrolled": false
   },
   "outputs": [
    {
     "name": "stdout",
     "output_type": "stream",
     "text": [
      "0.8\n",
      "0.82\n",
      "0.84\n",
      "0.86\n",
      "0.88\n",
      "0.9\n",
      "0.92\n",
      "0.94\n",
      "0.96\n",
      "0.98\n",
      "1.0\n",
      "1.02\n",
      "1.04\n",
      "1.06\n",
      "1.08\n",
      "1.1\n",
      "1.12\n",
      "1.14\n",
      "1.16\n",
      "1.18\n",
      "1.2\n"
     ]
    }
   ],
   "source": [
    "amp_arr = np.array([0.6,0.62,0.64,0.66,0.68,0.70,0.72,0.74,0.76,0.78,0.8,0.82,0.84,0.86,0.88,0.9,0.92,0.94,0.96,0.98,1.0,\\\n",
    "                    1.02,1.04,1.06,1.08,1.1,1.12,1.14,1.16,1.18,1.2])\n",
    "num_amp=amp_arr.shape[0]\n",
    "for i in range(num_amp):\n",
    "    amp=amp_arr[i]\n",
    "    print(amp)"
   ]
  },
  {
   "cell_type": "code",
   "execution_count": 12,
   "metadata": {},
   "outputs": [
    {
     "name": "stdout",
     "output_type": "stream",
     "text": [
      "0.6\n",
      "0.62\n",
      "0.64\n",
      "0.66\n",
      "0.68\n",
      "0.7\n",
      "0.72\n",
      "0.74\n",
      "0.76\n",
      "0.78\n"
     ]
    }
   ],
   "source": [
    "ampArr = np.array([0.6,0.62,0.64,0.66,0.68,0.70,0.72,0.74,0.76,0.78,0.8,0.82,0.84,0.86,0.88,0.9,0.92,0.94,0.96,0.98,1.0,\\\n",
    "                    1.02,1.04,1.06,1.08,1.1,1.12,1.14,1.16,1.18,1.2])\n",
    "num_amp=ampArr.shape[0]\n",
    "for i in range(num_amp):\n",
    "    amp=ampArr[i]\n",
    "    print(amp)\n",
    "    u0=sine_wave(amp,1.0)\n",
    "    u=solve(u0)\n",
    "    file_name_FOM=\"./data/FOM_amp_{}.p\".format(amp)\n",
    "    pickle.dump(u, open(file_name_FOM, \"wb\"))"
   ]
  },
  {
   "cell_type": "code",
   "execution_count": null,
   "metadata": {},
   "outputs": [],
   "source": []
  }
 ],
 "metadata": {
  "kernelspec": {
   "display_name": "Python 3",
   "language": "python",
   "name": "python3"
  },
  "language_info": {
   "codemirror_mode": {
    "name": "ipython",
    "version": 3
   },
   "file_extension": ".py",
   "mimetype": "text/x-python",
   "name": "python",
   "nbconvert_exporter": "python",
   "pygments_lexer": "ipython3",
   "version": "3.7.6"
  }
 },
 "nbformat": 4,
 "nbformat_minor": 2
}
